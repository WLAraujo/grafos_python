{
 "cells": [
  {
   "cell_type": "markdown",
   "id": "6b0d6458",
   "metadata": {},
   "source": [
    "# Biblioteca NetworkX"
   ]
  },
  {
   "cell_type": "markdown",
   "id": "694018c0",
   "metadata": {},
   "source": [
    "## Instalando e importando"
   ]
  },
  {
   "cell_type": "code",
   "execution_count": 1,
   "id": "d9361559",
   "metadata": {},
   "outputs": [
    {
     "name": "stdout",
     "output_type": "stream",
     "text": [
      "Requirement already satisfied: networkx in /home/wesleyaraujo/.local/lib/python3.8/site-packages (2.6.3)\n"
     ]
    }
   ],
   "source": [
    "# Instalando a biblioteca networkx\n",
    "!pip install networkx"
   ]
  },
  {
   "cell_type": "code",
   "execution_count": 2,
   "id": "4e877b95",
   "metadata": {},
   "outputs": [],
   "source": [
    "# Importando a biblioteca networkx\n",
    "import networkx as nx"
   ]
  },
  {
   "cell_type": "markdown",
   "id": "9ba2ba92",
   "metadata": {},
   "source": [
    "## Criando o grafo e adicionando vértices"
   ]
  },
  {
   "cell_type": "code",
   "execution_count": 3,
   "id": "e65a77c1",
   "metadata": {},
   "outputs": [],
   "source": [
    "# Criando um objeto grafo\n",
    "# No caso, estamos criando um grafo vazio\n",
    "G = nx.Graph()"
   ]
  },
  {
   "cell_type": "code",
   "execution_count": 4,
   "id": "56ee776f",
   "metadata": {},
   "outputs": [],
   "source": [
    "# Adicionando vértices de maneira simples ao nosso grafo\n",
    "G.add_node(1)\n",
    "G.add_nodes_from([2,3])"
   ]
  },
  {
   "cell_type": "code",
   "execution_count": 5,
   "id": "6f115518",
   "metadata": {},
   "outputs": [],
   "source": [
    "# Adicionando vértices com características no nosso grafo\n",
    "G.add_nodes_from([\n",
    "    (4, {\"cor\": \"vermelho\"}),\n",
    "    (5, {\"cor\": \"verde\"}),\n",
    "])"
   ]
  },
  {
   "cell_type": "code",
   "execution_count": 6,
   "id": "e1cdef9e",
   "metadata": {},
   "outputs": [
    {
     "data": {
      "text/plain": [
       "NodeView((1, 2, 3, 4, 5))"
      ]
     },
     "execution_count": 6,
     "metadata": {},
     "output_type": "execute_result"
    }
   ],
   "source": [
    "# Vendo os nós do nosso grafo\n",
    "G.nodes"
   ]
  },
  {
   "cell_type": "code",
   "execution_count": 7,
   "id": "547193ae",
   "metadata": {},
   "outputs": [
    {
     "data": {
      "text/plain": [
       "NodeView((1, 2, 3, 4, 5, 6, 7))"
      ]
     },
     "execution_count": 7,
     "metadata": {},
     "output_type": "execute_result"
    }
   ],
   "source": [
    "# Transportando os vértices de um grafo para o outro\n",
    "H = nx.Graph()\n",
    "H.add_nodes_from([6,7])\n",
    "G.add_nodes_from(H)\n",
    "G.nodes"
   ]
  },
  {
   "cell_type": "code",
   "execution_count": 8,
   "id": "7378c5db",
   "metadata": {},
   "outputs": [],
   "source": [
    "# Inclusive, grafos podem ser usados como nós de outros grafos\n",
    "G.add_node(H)"
   ]
  },
  {
   "cell_type": "code",
   "execution_count": 9,
   "id": "802022af",
   "metadata": {},
   "outputs": [],
   "source": [
    "# Adicionando um nó com nome \"spam\"\n",
    "G.add_node(\"spam\")"
   ]
  },
  {
   "cell_type": "code",
   "execution_count": 10,
   "id": "f3d2ec00",
   "metadata": {},
   "outputs": [],
   "source": [
    "# Adicionando os nós \"s\", \"p\", \"a\" e \"m\"\n",
    "G.add_nodes_from(\"spam\")"
   ]
  },
  {
   "cell_type": "code",
   "execution_count": 11,
   "id": "e259e2af",
   "metadata": {},
   "outputs": [
    {
     "data": {
      "text/plain": [
       "NodeView((1, 2, 3, 4, 5, 6, 7, <networkx.classes.graph.Graph object at 0x7f4cb8118640>, 'spam', 's', 'p', 'a', 'm'))"
      ]
     },
     "execution_count": 11,
     "metadata": {},
     "output_type": "execute_result"
    }
   ],
   "source": [
    "# Vendo os nós\n",
    "G.nodes"
   ]
  },
  {
   "cell_type": "markdown",
   "id": "e145043c",
   "metadata": {},
   "source": [
    "## Arestas"
   ]
  },
  {
   "cell_type": "code",
   "execution_count": 12,
   "id": "8c4cacd8",
   "metadata": {},
   "outputs": [],
   "source": [
    "# Adicionando arestas aos nossos vértices\n",
    "G.add_edge(1,2)"
   ]
  },
  {
   "cell_type": "code",
   "execution_count": 13,
   "id": "c6cbef9b",
   "metadata": {},
   "outputs": [],
   "source": [
    "# Adicionando tupla como aresta, é necessário desempacotá-la antes de adicionar\n",
    "e = (2,3)\n",
    "G.add_edge(*e)"
   ]
  },
  {
   "cell_type": "code",
   "execution_count": 14,
   "id": "7303171e",
   "metadata": {},
   "outputs": [
    {
     "data": {
      "text/plain": [
       "EdgeView([(1, 2), (2, 3)])"
      ]
     },
     "execution_count": 14,
     "metadata": {},
     "output_type": "execute_result"
    }
   ],
   "source": [
    "# Vendo as arestas\n",
    "G.edges"
   ]
  },
  {
   "cell_type": "code",
   "execution_count": 15,
   "id": "3ad06b78",
   "metadata": {},
   "outputs": [],
   "source": [
    "# Adicionando arestas através de uma lista\n",
    "G.add_edges_from([(4,7),(5,7)])"
   ]
  },
  {
   "cell_type": "code",
   "execution_count": 16,
   "id": "ea425d5a",
   "metadata": {},
   "outputs": [
    {
     "data": {
      "text/plain": [
       "EdgeView([(1, 2), (2, 3), (4, 7), (5, 7), (6, 7)])"
      ]
     },
     "execution_count": 16,
     "metadata": {},
     "output_type": "execute_result"
    }
   ],
   "source": [
    "# Também podemos adicionar as arestas de um outro grafo\n",
    "H.add_edge(6,7)\n",
    "G.add_edges_from(H.edges)\n",
    "G.edges"
   ]
  },
  {
   "cell_type": "code",
   "execution_count": 17,
   "id": "21fe4df1",
   "metadata": {},
   "outputs": [],
   "source": [
    "# \"Esvaziando\" o nosso grafo\n",
    "G.clear()"
   ]
  },
  {
   "cell_type": "code",
   "execution_count": 18,
   "id": "a389a11c",
   "metadata": {},
   "outputs": [
    {
     "data": {
      "text/plain": [
       "NodeView((1, 2))"
      ]
     },
     "execution_count": 18,
     "metadata": {},
     "output_type": "execute_result"
    }
   ],
   "source": [
    "# O conjunto de nós funciona exatamente como um set, não permitindo repetições\n",
    "G.add_nodes_from([1,2])\n",
    "G.add_node(1)\n",
    "G.nodes"
   ]
  },
  {
   "cell_type": "markdown",
   "id": "ec320d1e",
   "metadata": {},
   "source": [
    "## Número de vértices e arestas"
   ]
  },
  {
   "cell_type": "code",
   "execution_count": 19,
   "id": "a477e90b",
   "metadata": {},
   "outputs": [
    {
     "data": {
      "text/plain": [
       "2"
      ]
     },
     "execution_count": 19,
     "metadata": {},
     "output_type": "execute_result"
    }
   ],
   "source": [
    "G.number_of_nodes()"
   ]
  },
  {
   "cell_type": "code",
   "execution_count": 20,
   "id": "f0eef2af",
   "metadata": {},
   "outputs": [
    {
     "data": {
      "text/plain": [
       "0"
      ]
     },
     "execution_count": 20,
     "metadata": {},
     "output_type": "execute_result"
    }
   ],
   "source": [
    "G.number_of_edges()"
   ]
  },
  {
   "cell_type": "markdown",
   "id": "f2ca8df2",
   "metadata": {},
   "source": [
    "## Examinando elementos do grafo"
   ]
  },
  {
   "cell_type": "code",
   "execution_count": 21,
   "id": "409591b6",
   "metadata": {},
   "outputs": [],
   "source": [
    "# Construindo um novo grafo G\n",
    "G.clear()\n",
    "G.add_nodes_from([1,2,3,4,5,6])\n",
    "G.add_edges_from([(1,2),(2,3),(3,4),(4,5),(5,6),(6,1)])"
   ]
  },
  {
   "cell_type": "code",
   "execution_count": 22,
   "id": "045941a8",
   "metadata": {},
   "outputs": [
    {
     "data": {
      "text/plain": [
       "[1, 2, 3, 4, 5, 6]"
      ]
     },
     "execution_count": 22,
     "metadata": {},
     "output_type": "execute_result"
    }
   ],
   "source": [
    "# Lista de vértices\n",
    "list(G.nodes)"
   ]
  },
  {
   "cell_type": "code",
   "execution_count": 23,
   "id": "53943f99",
   "metadata": {},
   "outputs": [
    {
     "data": {
      "text/plain": [
       "[(1, 2), (1, 6), (2, 3), (3, 4), (4, 5), (5, 6)]"
      ]
     },
     "execution_count": 23,
     "metadata": {},
     "output_type": "execute_result"
    }
   ],
   "source": [
    "# Lista de arestas\n",
    "list(G.edges)"
   ]
  },
  {
   "cell_type": "code",
   "execution_count": 24,
   "id": "9a53c094",
   "metadata": {},
   "outputs": [
    {
     "data": {
      "text/plain": [
       "[2, 6]"
      ]
     },
     "execution_count": 24,
     "metadata": {},
     "output_type": "execute_result"
    }
   ],
   "source": [
    "# Lista de vizinhos de um vértice\n",
    "list(G.adj[1])"
   ]
  },
  {
   "cell_type": "code",
   "execution_count": 25,
   "id": "ea6b413d",
   "metadata": {},
   "outputs": [
    {
     "data": {
      "text/plain": [
       "2"
      ]
     },
     "execution_count": 25,
     "metadata": {},
     "output_type": "execute_result"
    }
   ],
   "source": [
    "# Vendo o grau de um vértice\n",
    "G.degree[1]"
   ]
  },
  {
   "cell_type": "code",
   "execution_count": 26,
   "id": "686ca324",
   "metadata": {},
   "outputs": [
    {
     "data": {
      "text/plain": [
       "[(2, 1), (2, 3), (5, 4), (5, 6)]"
      ]
     },
     "execution_count": 26,
     "metadata": {},
     "output_type": "execute_result"
    }
   ],
   "source": [
    "# Vendo as arestas de um conjunto de vértices\n",
    "list(G.edges([2, 5]))"
   ]
  },
  {
   "cell_type": "code",
   "execution_count": 27,
   "id": "3c3eb136",
   "metadata": {},
   "outputs": [
    {
     "data": {
      "text/plain": [
       "{2: 2, 5: 2}"
      ]
     },
     "execution_count": 27,
     "metadata": {},
     "output_type": "execute_result"
    }
   ],
   "source": [
    "# Vendo o grau de um conjunto de vértices\n",
    "dict(G.degree([2, 5]))"
   ]
  },
  {
   "cell_type": "markdown",
   "id": "8d979ba0",
   "metadata": {},
   "source": [
    "## Removendo elementos"
   ]
  },
  {
   "cell_type": "code",
   "execution_count": 28,
   "id": "65fe8b8a",
   "metadata": {},
   "outputs": [
    {
     "data": {
      "text/plain": [
       "[1, 3, 4, 5, 6]"
      ]
     },
     "execution_count": 28,
     "metadata": {},
     "output_type": "execute_result"
    }
   ],
   "source": [
    "# Removendo alguns dos vértices do nosso grafo\n",
    "G.remove_node(2)\n",
    "list(G.nodes)"
   ]
  },
  {
   "cell_type": "code",
   "execution_count": 29,
   "id": "e499dc61",
   "metadata": {},
   "outputs": [
    {
     "data": {
      "text/plain": [
       "[(1, 6), (3, 4), (4, 5), (5, 6)]"
      ]
     },
     "execution_count": 29,
     "metadata": {},
     "output_type": "execute_result"
    }
   ],
   "source": [
    "# Vendo como fica o conjunto de arestas após a remoção de um nó\n",
    "list(G.edges)"
   ]
  },
  {
   "cell_type": "code",
   "execution_count": 30,
   "id": "70f06f53",
   "metadata": {},
   "outputs": [
    {
     "data": {
      "text/plain": [
       "[1, 3, 6]"
      ]
     },
     "execution_count": 30,
     "metadata": {},
     "output_type": "execute_result"
    }
   ],
   "source": [
    "# Removendo um conjunto de vértices\n",
    "G.remove_nodes_from([4,5])\n",
    "list(G.nodes)"
   ]
  },
  {
   "cell_type": "code",
   "execution_count": 31,
   "id": "aeb73301",
   "metadata": {},
   "outputs": [
    {
     "data": {
      "text/plain": [
       "[]"
      ]
     },
     "execution_count": 31,
     "metadata": {},
     "output_type": "execute_result"
    }
   ],
   "source": [
    "# Removendo uma aresta\n",
    "G.remove_edge(1,6)\n",
    "list(G.edges)"
   ]
  },
  {
   "cell_type": "markdown",
   "id": "d240110b",
   "metadata": {},
   "source": [
    "## Adicionando atributos a grafos, vértices e arestas"
   ]
  },
  {
   "cell_type": "code",
   "execution_count": 32,
   "id": "1f9cdcfb",
   "metadata": {},
   "outputs": [
    {
     "data": {
      "text/plain": [
       "{'dia': 'segunda'}"
      ]
     },
     "execution_count": 32,
     "metadata": {},
     "output_type": "execute_result"
    }
   ],
   "source": [
    "# Vamos criar um grafo com um atributo dia da semana, para ver os atributos usamos o atributo graph\n",
    "G = nx.Graph(dia=\"segunda\")\n",
    "G.graph"
   ]
  },
  {
   "cell_type": "code",
   "execution_count": 33,
   "id": "313e19bb",
   "metadata": {},
   "outputs": [
    {
     "data": {
      "text/plain": [
       "{'dia': 'sexta'}"
      ]
     },
     "execution_count": 33,
     "metadata": {},
     "output_type": "execute_result"
    }
   ],
   "source": [
    "# Para alterar o valor de um atributo\n",
    "G.graph['dia'] = \"sexta\"\n",
    "G.graph"
   ]
  },
  {
   "cell_type": "code",
   "execution_count": 34,
   "id": "b95dbbec",
   "metadata": {},
   "outputs": [
    {
     "data": {
      "text/plain": [
       "{'profissao': 'professor', 'amigos': 23}"
      ]
     },
     "execution_count": 34,
     "metadata": {},
     "output_type": "execute_result"
    }
   ],
   "source": [
    "# Criando vértices com atributos \n",
    "G.add_node(1, profissao = \"professor\", amigos = 23)\n",
    "G.nodes[1]"
   ]
  },
  {
   "cell_type": "code",
   "execution_count": 35,
   "id": "358ea53a",
   "metadata": {},
   "outputs": [
    {
     "data": {
      "text/plain": [
       "{'profissao': 'professor', 'amigos': 23, 'empregado': 1}"
      ]
     },
     "execution_count": 35,
     "metadata": {},
     "output_type": "execute_result"
    }
   ],
   "source": [
    "# Adicionando atributo a vértice existente\n",
    "G.nodes[1][\"empregado\"] = 1\n",
    "G.nodes[1]"
   ]
  },
  {
   "cell_type": "code",
   "execution_count": 36,
   "id": "4d318880",
   "metadata": {},
   "outputs": [
    {
     "name": "stdout",
     "output_type": "stream",
     "text": [
      "{'cor': 'vermelho', 'peso': 3}\n",
      "{'cor': 'azul', 'peso': 9}\n"
     ]
    }
   ],
   "source": [
    "# Adicionando vários vértice com atributos\n",
    "G.add_nodes_from([(2,{\"cor\":\"vermelho\",\"peso\":3}),(3,{\"cor\":\"azul\",\"peso\":9})])\n",
    "print(G.nodes[2])\n",
    "print(G.nodes[3])"
   ]
  },
  {
   "cell_type": "code",
   "execution_count": 37,
   "id": "d52f6710",
   "metadata": {},
   "outputs": [
    {
     "name": "stdout",
     "output_type": "stream",
     "text": [
      "{'peso': 4, 'valor': 10}\n"
     ]
    }
   ],
   "source": [
    "# Adicionando arestas com atributos\n",
    "G.add_edge(1,2,peso=4,valor=10)\n",
    "print(G.edges[(1,2)])"
   ]
  },
  {
   "cell_type": "code",
   "execution_count": 38,
   "id": "5dbcaee3",
   "metadata": {},
   "outputs": [
    {
     "name": "stdout",
     "output_type": "stream",
     "text": [
      "{'peso': 4.5, 'valor': 15}\n",
      "{'peso': 1, 'valor': 50}\n"
     ]
    }
   ],
   "source": [
    "# Adicionando várias arestas com atributos\n",
    "G.add_edges_from([(2,3,{\"peso\":4.5,\"valor\":15}), (3,1,{\"peso\":1,\"valor\":50})])\n",
    "print(G.edges[(2,3)])\n",
    "print(G.edges[(3,1)])"
   ]
  },
  {
   "cell_type": "markdown",
   "id": "dff0aa5a",
   "metadata": {},
   "source": [
    "Para as arestas existe um atributo especial, o \"weight\", esse atributo deve ser numérico, pois é usado por algoritmos que usam aresta ponderadas."
   ]
  },
  {
   "cell_type": "markdown",
   "id": "cb5cf8c6",
   "metadata": {},
   "source": [
    "##  Algumas funções geradoras de grafos"
   ]
  },
  {
   "cell_type": "code",
   "execution_count": 39,
   "id": "e6cf5d12",
   "metadata": {},
   "outputs": [
    {
     "name": "stdout",
     "output_type": "stream",
     "text": [
      "Graph named 'Petersen Graph' with 10 nodes and 15 edges\n"
     ]
    }
   ],
   "source": [
    "# Grafo de petersen\n",
    "G = nx.petersen_graph()\n",
    "print(G)"
   ]
  },
  {
   "cell_type": "code",
   "execution_count": 40,
   "id": "e6d23fbe",
   "metadata": {},
   "outputs": [
    {
     "name": "stdout",
     "output_type": "stream",
     "text": [
      "Graph named \"Tutte's Graph\" with 46 nodes and 69 edges\n"
     ]
    }
   ],
   "source": [
    "# Grafo de Tutte\n",
    "G = nx.tutte_graph()\n",
    "print(G)"
   ]
  },
  {
   "cell_type": "code",
   "execution_count": 41,
   "id": "785f7e84",
   "metadata": {},
   "outputs": [
    {
     "name": "stdout",
     "output_type": "stream",
     "text": [
      "Graph with 6 nodes and 15 edges\n"
     ]
    }
   ],
   "source": [
    "# Grafo completo\n",
    "G = nx.complete_graph(6)\n",
    "print(G)"
   ]
  },
  {
   "cell_type": "code",
   "execution_count": 42,
   "id": "793bffab",
   "metadata": {},
   "outputs": [
    {
     "name": "stdout",
     "output_type": "stream",
     "text": [
      "Graph named 'complete_bipartite_graph(3,3)' with 6 nodes and 9 edges\n"
     ]
    }
   ],
   "source": [
    "# Grafo bipartido completo\n",
    "G = nx.complete_bipartite_graph(3, 3)\n",
    "print(G)"
   ]
  },
  {
   "cell_type": "code",
   "execution_count": 43,
   "id": "3d7ad9a5",
   "metadata": {},
   "outputs": [
    {
     "name": "stdout",
     "output_type": "stream",
     "text": [
      "Graph with 12 nodes and 23 edges\n"
     ]
    }
   ],
   "source": [
    "# Grafo de Barbell\n",
    "G = nx.barbell_graph(5, 2)\n",
    "print(G)"
   ]
  },
  {
   "cell_type": "code",
   "execution_count": 44,
   "id": "2969f491",
   "metadata": {},
   "outputs": [
    {
     "name": "stdout",
     "output_type": "stream",
     "text": [
      "Graph with 6 nodes and 6 edges\n"
     ]
    }
   ],
   "source": [
    "# Grafo ciclo\n",
    "G = nx.cycle_graph(6)\n",
    "print(G)"
   ]
  },
  {
   "cell_type": "code",
   "execution_count": 45,
   "id": "f2b8e116",
   "metadata": {},
   "outputs": [
    {
     "name": "stdout",
     "output_type": "stream",
     "text": [
      "Graph with 5 nodes and 0 edges\n"
     ]
    }
   ],
   "source": [
    "# Grafo vazio\n",
    "G = nx.empty_graph(5)\n",
    "print(G)"
   ]
  },
  {
   "cell_type": "code",
   "execution_count": 46,
   "id": "558624df",
   "metadata": {},
   "outputs": [
    {
     "name": "stdout",
     "output_type": "stream",
     "text": [
      "Graph with 6 nodes and 5 edges\n"
     ]
    }
   ],
   "source": [
    "# Grafo caminho\n",
    "G = nx.path_graph(6)\n",
    "print(G)"
   ]
  },
  {
   "cell_type": "code",
   "execution_count": 47,
   "id": "202566d7",
   "metadata": {},
   "outputs": [
    {
     "name": "stdout",
     "output_type": "stream",
     "text": [
      "Graph with 8 nodes and 7 edges\n"
     ]
    }
   ],
   "source": [
    "# Grafo estrela\n",
    "G = nx.star_graph(7)\n",
    "print(G)"
   ]
  },
  {
   "cell_type": "code",
   "execution_count": 48,
   "id": "cc7e6893",
   "metadata": {},
   "outputs": [
    {
     "name": "stdout",
     "output_type": "stream",
     "text": [
      "Graph with 5 nodes and 8 edges\n"
     ]
    }
   ],
   "source": [
    "# Grafo roda\n",
    "G = nx.wheel_graph(5)\n",
    "print(G)"
   ]
  },
  {
   "cell_type": "markdown",
   "id": "f1efa01a",
   "metadata": {},
   "source": [
    "## Operações sobre grafos"
   ]
  },
  {
   "cell_type": "code",
   "execution_count": 49,
   "id": "809e3839",
   "metadata": {},
   "outputs": [],
   "source": [
    "# Definindo grafos que serão usados\n",
    "G = nx.star_graph(5)\n",
    "H = nx.cycle_graph(5)"
   ]
  },
  {
   "cell_type": "code",
   "execution_count": 50,
   "id": "84c57b2f",
   "metadata": {},
   "outputs": [
    {
     "name": "stdout",
     "output_type": "stream",
     "text": [
      "Graph with 3 nodes and 2 edges\n"
     ]
    }
   ],
   "source": [
    "# Pegando o subgrafo induzido por conjunto de vértices\n",
    "nG = nx.subgraph(G, (0,1,2))\n",
    "print(nG)"
   ]
  },
  {
   "cell_type": "code",
   "execution_count": 51,
   "id": "fac400b9",
   "metadata": {},
   "outputs": [
    {
     "name": "stdout",
     "output_type": "stream",
     "text": [
      "Graph with 11 nodes and 10 edges\n"
     ]
    }
   ],
   "source": [
    "# Realizando união entre grafos\n",
    "un = nx.union(G, H, rename = (\"G\", \"H\"))\n",
    "print(un)"
   ]
  },
  {
   "cell_type": "code",
   "execution_count": 52,
   "id": "f03e1a47",
   "metadata": {},
   "outputs": [
    {
     "name": "stdout",
     "output_type": "stream",
     "text": [
      "Graph with 6 nodes and 10 edges\n"
     ]
    }
   ],
   "source": [
    "# Encontrando grafo complemento\n",
    "compl = nx.complement(G)\n",
    "print(compl)"
   ]
  },
  {
   "cell_type": "code",
   "execution_count": 53,
   "id": "07570fa1",
   "metadata": {},
   "outputs": [
    {
     "name": "stdout",
     "output_type": "stream",
     "text": [
      "Graph with 6 nodes and 8 edges\n"
     ]
    }
   ],
   "source": [
    "# Composição entre grafos\n",
    "compo = nx.compose(G, H)\n",
    "print(compo)"
   ]
  },
  {
   "cell_type": "code",
   "execution_count": 54,
   "id": "17bbd981",
   "metadata": {},
   "outputs": [
    {
     "name": "stdout",
     "output_type": "stream",
     "text": [
      "Graph with 6 nodes and 0 edges\n"
     ]
    }
   ],
   "source": [
    "# Criando cópia vazia de um grafo\n",
    "cpG = nx.create_empty_copy(G)\n",
    "print(cpG)"
   ]
  },
  {
   "cell_type": "markdown",
   "id": "97ea0f99",
   "metadata": {},
   "source": [
    "## Algumas funções de análise"
   ]
  },
  {
   "cell_type": "code",
   "execution_count": 55,
   "id": "b24087e2",
   "metadata": {},
   "outputs": [
    {
     "data": {
      "text/plain": [
       "True"
      ]
     },
     "execution_count": 55,
     "metadata": {},
     "output_type": "execute_result"
    }
   ],
   "source": [
    "# Verificando se é árvore\n",
    "nx.is_tree(G)"
   ]
  },
  {
   "cell_type": "code",
   "execution_count": 56,
   "id": "1908656a",
   "metadata": {},
   "outputs": [
    {
     "data": {
      "text/plain": [
       "True"
      ]
     },
     "execution_count": 56,
     "metadata": {},
     "output_type": "execute_result"
    }
   ],
   "source": [
    "# Verificando se é floresta\n",
    "nx.is_forest(G)"
   ]
  },
  {
   "cell_type": "code",
   "execution_count": 60,
   "id": "37b3cf93",
   "metadata": {},
   "outputs": [
    {
     "name": "stdout",
     "output_type": "stream",
     "text": [
      "[1, 0, 5]\n",
      "2\n"
     ]
    }
   ],
   "source": [
    "# Verificando o caminho mínimo entre dois nós e seu tamanho\n",
    "print(nx.shortest_path(G, 1, 5))\n",
    "print(nx.shortest_path_length(G, 1, 5))"
   ]
  },
  {
   "cell_type": "code",
   "execution_count": 64,
   "id": "fdb59803",
   "metadata": {},
   "outputs": [
    {
     "data": {
      "text/plain": [
       "True"
      ]
     },
     "execution_count": 64,
     "metadata": {},
     "output_type": "execute_result"
    }
   ],
   "source": [
    "# Verifica se existe caminho entre vértices\n",
    "nx.has_path(G, 1, 5)"
   ]
  },
  {
   "cell_type": "markdown",
   "id": "cdfa34f4",
   "metadata": {},
   "source": [
    "## Desenhando grafos"
   ]
  },
  {
   "cell_type": "code",
   "execution_count": 58,
   "id": "8d1da2d2",
   "metadata": {},
   "outputs": [],
   "source": [
    "# Importando a matplotlib\n",
    "import matplotlib.pyplot as plt"
   ]
  },
  {
   "cell_type": "code",
   "execution_count": 65,
   "id": "458c2275",
   "metadata": {},
   "outputs": [
    {
     "data": {
      "image/png": "[encoded data removed]",
      "text/plain": [
       "<Figure size 432x288 with 1 Axes>"
      ]
     },
     "metadata": {},
     "output_type": "display_data"
    }
   ],
   "source": [
    "# Desenhando todo o grafo\n",
    "nx.draw(nx.star_graph(6), with_labels = True)"
   ]
  }
 ],
 "metadata": {
  "kernelspec": {
   "display_name": "Python 3 (ipykernel)",
   "language": "python",
   "name": "python3"
  },
  "language_info": {
   "codemirror_mode": {
    "name": "ipython",
    "version": 3
   },
   "file_extension": ".py",
   "mimetype": "text/x-python",
   "name": "python",
   "nbconvert_exporter": "python",
   "pygments_lexer": "ipython3",
   "version": "3.8.10"
  }
 },
 "nbformat": 4,
 "nbformat_minor": 5
}
