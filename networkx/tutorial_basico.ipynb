{
 "cells": [
  {
   "cell_type": "markdown",
   "id": "6b0d6458",
   "metadata": {},
   "source": [
    "# Biblioteca NetworkX"
   ]
  },
  {
   "cell_type": "markdown",
   "id": "694018c0",
   "metadata": {},
   "source": [
    "## Instalando e importando"
   ]
  },
  {
   "cell_type": "code",
   "execution_count": 1,
   "id": "d9361559",
   "metadata": {},
   "outputs": [
    {
     "name": "stdout",
     "output_type": "stream",
     "text": [
      "/usr/lib/python3/dist-packages/secretstorage/dhcrypto.py:15: CryptographyDeprecationWarning: int_from_bytes is deprecated, use int.from_bytes instead\n",
      "  from cryptography.utils import int_from_bytes\n",
      "/usr/lib/python3/dist-packages/secretstorage/util.py:19: CryptographyDeprecationWarning: int_from_bytes is deprecated, use int.from_bytes instead\n",
      "  from cryptography.utils import int_from_bytes\n",
      "Defaulting to user installation because normal site-packages is not writeable\n",
      "Requirement already satisfied: networkx in /home/wesleyla/.local/lib/python3.8/site-packages (2.6.3)\n"
     ]
    }
   ],
   "source": [
    "# Instalando a biblioteca networkx\n",
    "!pip install networkx"
   ]
  },
  {
   "cell_type": "code",
   "execution_count": 2,
   "id": "4e877b95",
   "metadata": {},
   "outputs": [],
   "source": [
    "# Importando a biblioteca networkx\n",
    "import networkx as nx"
   ]
  },
  {
   "cell_type": "markdown",
   "id": "9ba2ba92",
   "metadata": {},
   "source": [
    "## Criando o grafo e adicionando vértices"
   ]
  },
  {
   "cell_type": "code",
   "execution_count": 3,
   "id": "e65a77c1",
   "metadata": {},
   "outputs": [],
   "source": [
    "# Criando um objeto grafo\n",
    "# No caso, estamos criando um grafo vazio\n",
    "G = nx.Graph()"
   ]
  },
  {
   "cell_type": "code",
   "execution_count": 4,
   "id": "56ee776f",
   "metadata": {},
   "outputs": [],
   "source": [
    "# Adicionando vértices de maneira simples ao nosso grafo\n",
    "G.add_node(1)\n",
    "G.add_nodes_from([2,3])"
   ]
  },
  {
   "cell_type": "code",
   "execution_count": 5,
   "id": "6f115518",
   "metadata": {},
   "outputs": [],
   "source": [
    "# Adicionando vértices com características no nosso grafo\n",
    "G.add_nodes_from([\n",
    "    (4, {\"cor\": \"vermelho\"}),\n",
    "    (5, {\"cor\": \"verde\"}),\n",
    "])"
   ]
  },
  {
   "cell_type": "code",
   "execution_count": 6,
   "id": "e1cdef9e",
   "metadata": {},
   "outputs": [
    {
     "data": {
      "text/plain": [
       "NodeView((1, 2, 3, 4, 5))"
      ]
     },
     "execution_count": 6,
     "metadata": {},
     "output_type": "execute_result"
    }
   ],
   "source": [
    "# Vendo os nós do nosso grafo\n",
    "G.nodes"
   ]
  },
  {
   "cell_type": "code",
   "execution_count": 7,
   "id": "547193ae",
   "metadata": {},
   "outputs": [
    {
     "data": {
      "text/plain": [
       "NodeView((1, 2, 3, 4, 5, 6, 7))"
      ]
     },
     "execution_count": 7,
     "metadata": {},
     "output_type": "execute_result"
    }
   ],
   "source": [
    "# Transportando os vértices de um grafo para o outro\n",
    "H = nx.Graph()\n",
    "H.add_nodes_from([6,7])\n",
    "G.add_nodes_from(H)\n",
    "G.nodes"
   ]
  },
  {
   "cell_type": "code",
   "execution_count": 8,
   "id": "7378c5db",
   "metadata": {},
   "outputs": [],
   "source": [
    "# Inclusive, grafos podem ser usados como nós de outros grafos\n",
    "G.add_node(H)"
   ]
  },
  {
   "cell_type": "code",
   "execution_count": 9,
   "id": "802022af",
   "metadata": {},
   "outputs": [],
   "source": [
    "# Adicionando um nó com nome \"spam\"\n",
    "G.add_node(\"spam\")"
   ]
  },
  {
   "cell_type": "code",
   "execution_count": 10,
   "id": "f3d2ec00",
   "metadata": {},
   "outputs": [],
   "source": [
    "# Adicionando os nós \"s\", \"p\", \"a\" e \"m\"\n",
    "G.add_nodes_from(\"spam\")"
   ]
  },
  {
   "cell_type": "code",
   "execution_count": 11,
   "id": "e259e2af",
   "metadata": {},
   "outputs": [
    {
     "data": {
      "text/plain": [
       "NodeView((1, 2, 3, 4, 5, 6, 7, <networkx.classes.graph.Graph object at 0x7fc0647dc1f0>, 'spam', 's', 'p', 'a', 'm'))"
      ]
     },
     "execution_count": 11,
     "metadata": {},
     "output_type": "execute_result"
    }
   ],
   "source": [
    "# Vendo os nós\n",
    "G.nodes"
   ]
  },
  {
   "cell_type": "markdown",
   "id": "e145043c",
   "metadata": {},
   "source": [
    "## Arestas"
   ]
  },
  {
   "cell_type": "code",
   "execution_count": 12,
   "id": "8c4cacd8",
   "metadata": {},
   "outputs": [],
   "source": [
    "# Adicionando arestas aos nossos vértices\n",
    "G.add_edge(1,2)"
   ]
  },
  {
   "cell_type": "code",
   "execution_count": 13,
   "id": "c6cbef9b",
   "metadata": {},
   "outputs": [],
   "source": [
    "# Adicionando tupla como aresta, é necessário desempacotá-la antes de adicionar\n",
    "e = (2,3)\n",
    "G.add_edge(*e)"
   ]
  },
  {
   "cell_type": "code",
   "execution_count": 14,
   "id": "7303171e",
   "metadata": {},
   "outputs": [
    {
     "data": {
      "text/plain": [
       "EdgeView([(1, 2), (2, 3)])"
      ]
     },
     "execution_count": 14,
     "metadata": {},
     "output_type": "execute_result"
    }
   ],
   "source": [
    "# Vendo as arestas\n",
    "G.edges"
   ]
  },
  {
   "cell_type": "code",
   "execution_count": 15,
   "id": "3ad06b78",
   "metadata": {},
   "outputs": [],
   "source": [
    "# Adicionando arestas através de uma lista\n",
    "G.add_edges_from([(4,7),(5,7)])"
   ]
  },
  {
   "cell_type": "code",
   "execution_count": 16,
   "id": "ea425d5a",
   "metadata": {},
   "outputs": [
    {
     "data": {
      "text/plain": [
       "EdgeView([(1, 2), (2, 3), (4, 7), (5, 7), (6, 7)])"
      ]
     },
     "execution_count": 16,
     "metadata": {},
     "output_type": "execute_result"
    }
   ],
   "source": [
    "# Também podemos adicionar as arestas de um outro grafo\n",
    "H.add_edge(6,7)\n",
    "G.add_edges_from(H.edges)\n",
    "G.edges"
   ]
  },
  {
   "cell_type": "code",
   "execution_count": 17,
   "id": "21fe4df1",
   "metadata": {},
   "outputs": [],
   "source": [
    "# \"Esvaziando\" o nosso grafo\n",
    "G.clear()"
   ]
  },
  {
   "cell_type": "code",
   "execution_count": 18,
   "id": "a389a11c",
   "metadata": {},
   "outputs": [
    {
     "data": {
      "text/plain": [
       "NodeView((1, 2))"
      ]
     },
     "execution_count": 18,
     "metadata": {},
     "output_type": "execute_result"
    }
   ],
   "source": [
    "# O conjunto de nós funciona exatamente como um set, não permitindo repetições\n",
    "G.add_nodes_from([1,2])\n",
    "G.add_node(1)\n",
    "G.nodes"
   ]
  },
  {
   "cell_type": "markdown",
   "id": "ec320d1e",
   "metadata": {},
   "source": [
    "## Número de vértices e arestas"
   ]
  },
  {
   "cell_type": "code",
   "execution_count": 20,
   "id": "a477e90b",
   "metadata": {},
   "outputs": [
    {
     "data": {
      "text/plain": [
       "2"
      ]
     },
     "execution_count": 20,
     "metadata": {},
     "output_type": "execute_result"
    }
   ],
   "source": [
    "G.number_of_nodes()"
   ]
  },
  {
   "cell_type": "code",
   "execution_count": 19,
   "id": "f0eef2af",
   "metadata": {},
   "outputs": [
    {
     "data": {
      "text/plain": [
       "0"
      ]
     },
     "execution_count": 19,
     "metadata": {},
     "output_type": "execute_result"
    }
   ],
   "source": [
    "G.number_of_edges()"
   ]
  },
  {
   "cell_type": "markdown",
   "id": "f2ca8df2",
   "metadata": {},
   "source": [
    "## Examinando elementos do grafo"
   ]
  },
  {
   "cell_type": "code",
   "execution_count": 36,
   "id": "409591b6",
   "metadata": {},
   "outputs": [],
   "source": [
    "# Construindo um novo grafo G\n",
    "G.clear()\n",
    "G.add_nodes_from([1,2,3,4,5,6])\n",
    "G.add_edges_from([(1,2),(2,3),(3,4),(4,5),(5,6),(6,1)])"
   ]
  },
  {
   "cell_type": "code",
   "execution_count": 37,
   "id": "045941a8",
   "metadata": {},
   "outputs": [
    {
     "data": {
      "text/plain": [
       "[1, 2, 3, 4, 5, 6]"
      ]
     },
     "execution_count": 37,
     "metadata": {},
     "output_type": "execute_result"
    }
   ],
   "source": [
    "# Lista de vértices\n",
    "list(G.nodes)"
   ]
  },
  {
   "cell_type": "code",
   "execution_count": 38,
   "id": "53943f99",
   "metadata": {},
   "outputs": [
    {
     "data": {
      "text/plain": [
       "[(1, 2), (1, 6), (2, 3), (3, 4), (4, 5), (5, 6)]"
      ]
     },
     "execution_count": 38,
     "metadata": {},
     "output_type": "execute_result"
    }
   ],
   "source": [
    "# Lista de arestas\n",
    "list(G.edges)"
   ]
  },
  {
   "cell_type": "code",
   "execution_count": 39,
   "id": "9a53c094",
   "metadata": {},
   "outputs": [
    {
     "data": {
      "text/plain": [
       "[2, 6]"
      ]
     },
     "execution_count": 39,
     "metadata": {},
     "output_type": "execute_result"
    }
   ],
   "source": [
    "# Lista de vizinhos de um vértice\n",
    "list(G.adj[1])"
   ]
  },
  {
   "cell_type": "code",
   "execution_count": 40,
   "id": "ea6b413d",
   "metadata": {},
   "outputs": [
    {
     "data": {
      "text/plain": [
       "2"
      ]
     },
     "execution_count": 40,
     "metadata": {},
     "output_type": "execute_result"
    }
   ],
   "source": [
    "# Vendo o grau de um vértice\n",
    "G.degree[1]"
   ]
  },
  {
   "cell_type": "code",
   "execution_count": 41,
   "id": "686ca324",
   "metadata": {},
   "outputs": [
    {
     "data": {
      "text/plain": [
       "[(2, 1), (2, 3), (5, 4), (5, 6)]"
      ]
     },
     "execution_count": 41,
     "metadata": {},
     "output_type": "execute_result"
    }
   ],
   "source": [
    "# Vendo as arestas de um conjunto de vértices\n",
    "list(G.edges([2, 5]))"
   ]
  },
  {
   "cell_type": "code",
   "execution_count": 42,
   "id": "3c3eb136",
   "metadata": {},
   "outputs": [
    {
     "data": {
      "text/plain": [
       "{2: 2, 5: 2}"
      ]
     },
     "execution_count": 42,
     "metadata": {},
     "output_type": "execute_result"
    }
   ],
   "source": [
    "# Vendo o grau de um conjunto de vértices\n",
    "dict(G.degree([2, 5]))"
   ]
  },
  {
   "cell_type": "markdown",
   "id": "8d979ba0",
   "metadata": {},
   "source": [
    "## Removendo elementos"
   ]
  },
  {
   "cell_type": "code",
   "execution_count": 43,
   "id": "65fe8b8a",
   "metadata": {},
   "outputs": [
    {
     "data": {
      "text/plain": [
       "[1, 3, 4, 5, 6]"
      ]
     },
     "execution_count": 43,
     "metadata": {},
     "output_type": "execute_result"
    }
   ],
   "source": [
    "# Removendo alguns dos vértices do nosso grafo\n",
    "G.remove_node(2)\n",
    "list(G.nodes)"
   ]
  },
  {
   "cell_type": "code",
   "execution_count": 44,
   "id": "e499dc61",
   "metadata": {},
   "outputs": [
    {
     "data": {
      "text/plain": [
       "[(1, 6), (3, 4), (4, 5), (5, 6)]"
      ]
     },
     "execution_count": 44,
     "metadata": {},
     "output_type": "execute_result"
    }
   ],
   "source": [
    "# Vendo como fica o conjunto de arestas após a remoção de um nó\n",
    "list(G.edges)"
   ]
  },
  {
   "cell_type": "code",
   "execution_count": 45,
   "id": "70f06f53",
   "metadata": {},
   "outputs": [
    {
     "data": {
      "text/plain": [
       "[1, 3, 6]"
      ]
     },
     "execution_count": 45,
     "metadata": {},
     "output_type": "execute_result"
    }
   ],
   "source": [
    "# Removendo um conjunto de vértices\n",
    "G.remove_nodes_from([4,5])\n",
    "list(G.nodes)"
   ]
  },
  {
   "cell_type": "code",
   "execution_count": 46,
   "id": "aeb73301",
   "metadata": {},
   "outputs": [
    {
     "data": {
      "text/plain": [
       "[]"
      ]
     },
     "execution_count": 46,
     "metadata": {},
     "output_type": "execute_result"
    }
   ],
   "source": [
    "# Removendo uma aresta\n",
    "G.remove_edge(1,6)\n",
    "list(G.edges)"
   ]
  },
  {
   "cell_type": "markdown",
   "id": "d240110b",
   "metadata": {},
   "source": [
    "## Adicionando atributos a grafos, vértices e arestas"
   ]
  },
  {
   "cell_type": "code",
   "execution_count": 48,
   "id": "1f9cdcfb",
   "metadata": {},
   "outputs": [
    {
     "data": {
      "text/plain": [
       "{'dia': 'segunda'}"
      ]
     },
     "execution_count": 48,
     "metadata": {},
     "output_type": "execute_result"
    }
   ],
   "source": [
    "# Vamos criar um grafo com um atributo dia da semana, para ver os atributos usamos o atributo graph\n",
    "G = nx.Graph(dia=\"segunda\")\n",
    "G.graph"
   ]
  },
  {
   "cell_type": "code",
   "execution_count": 49,
   "id": "313e19bb",
   "metadata": {},
   "outputs": [
    {
     "data": {
      "text/plain": [
       "{'dia': 'sexta'}"
      ]
     },
     "execution_count": 49,
     "metadata": {},
     "output_type": "execute_result"
    }
   ],
   "source": [
    "# Para alterar o valor de um atributo\n",
    "G.graph['dia'] = \"sexta\"\n",
    "G.graph"
   ]
  },
  {
   "cell_type": "code",
   "execution_count": 51,
   "id": "b95dbbec",
   "metadata": {},
   "outputs": [
    {
     "data": {
      "text/plain": [
       "{'profissao': 'professor', 'amigos': 23}"
      ]
     },
     "execution_count": 51,
     "metadata": {},
     "output_type": "execute_result"
    }
   ],
   "source": [
    "# Criando vértices com atributos \n",
    "G.add_node(1, profissao = \"professor\", amigos = 23)\n",
    "G.nodes[1]"
   ]
  },
  {
   "cell_type": "code",
   "execution_count": 52,
   "id": "358ea53a",
   "metadata": {},
   "outputs": [
    {
     "data": {
      "text/plain": [
       "{'profissao': 'professor', 'amigos': 23, 'empregado': 1}"
      ]
     },
     "execution_count": 52,
     "metadata": {},
     "output_type": "execute_result"
    }
   ],
   "source": [
    "# Adicionando atributo a vértice existente\n",
    "G.nodes[1][\"empregado\"] = 1\n",
    "G.nodes[1]"
   ]
  },
  {
   "cell_type": "code",
   "execution_count": 56,
   "id": "4d318880",
   "metadata": {},
   "outputs": [
    {
     "name": "stdout",
     "output_type": "stream",
     "text": [
      "{'cor': 'vermelho', 'peso': 3}\n",
      "{'cor': 'azul', 'peso': 9}\n"
     ]
    }
   ],
   "source": [
    "# Adicionando vários vértice com atributos\n",
    "G.add_nodes_from([(2,{\"cor\":\"vermelho\",\"peso\":3}),(3,{\"cor\":\"azul\",\"peso\":9})])\n",
    "print(G.nodes[2])\n",
    "print(G.nodes[3])"
   ]
  },
  {
   "cell_type": "code",
   "execution_count": 59,
   "id": "d52f6710",
   "metadata": {},
   "outputs": [
    {
     "name": "stdout",
     "output_type": "stream",
     "text": [
      "{'peso': 4, 'valor': 10}\n"
     ]
    }
   ],
   "source": [
    "# Adicionando arestas com atributos\n",
    "G.add_edge(1,2,peso=4,valor=10)\n",
    "print(G.edges[(1,2)])"
   ]
  },
  {
   "cell_type": "code",
   "execution_count": 62,
   "id": "5dbcaee3",
   "metadata": {},
   "outputs": [
    {
     "name": "stdout",
     "output_type": "stream",
     "text": [
      "{'peso': 4.5, 'valor': 15}\n",
      "{'peso': 1, 'valor': 50}\n"
     ]
    }
   ],
   "source": [
    "# Adicionando várias arestas com atributos\n",
    "G.add_edges_from([(2,3,{\"peso\":4.5,\"valor\":15}), (3,1,{\"peso\":1,\"valor\":50})])\n",
    "print(G.edges[(2,3)])\n",
    "print(G.edges[(3,1)])"
   ]
  },
  {
   "cell_type": "markdown",
   "id": "dff0aa5a",
   "metadata": {},
   "source": [
    "Para as arestas existe um atributo especial, o \"weight\", esse atributo deve ser numérico, pois é usado por algoritmos que usam aresta ponderadas."
   ]
  },
  {
   "cell_type": "markdown",
   "id": "cb5cf8c6",
   "metadata": {},
   "source": [
    "##  Algumas funções com geradores de grafos e operações"
   ]
  },
  {
   "cell_type": "code",
   "execution_count": null,
   "id": "e6cf5d12",
   "metadata": {},
   "outputs": [],
   "source": []
  }
 ],
 "metadata": {
  "kernelspec": {
   "display_name": "Python 3 (ipykernel)",
   "language": "python",
   "name": "python3"
  },
  "language_info": {
   "codemirror_mode": {
    "name": "ipython",
    "version": 3
   },
   "file_extension": ".py",
   "mimetype": "text/x-python",
   "name": "python",
   "nbconvert_exporter": "python",
   "pygments_lexer": "ipython3",
   "version": "3.8.10"
  }
 },
 "nbformat": 4,
 "nbformat_minor": 5
}
