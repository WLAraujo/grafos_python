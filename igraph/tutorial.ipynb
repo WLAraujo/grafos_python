{
 "cells": [
  {
   "cell_type": "markdown",
   "metadata": {},
   "source": [
    "# Tutorial do módulo igraph"
   ]
  },
  {
   "cell_type": "markdown",
   "metadata": {},
   "source": [
    "## Importando igraph"
   ]
  },
  {
   "cell_type": "code",
   "execution_count": 208,
   "metadata": {},
   "outputs": [],
   "source": [
    "from igraph import *\n",
    "import matplotlib.pyplot as plt"
   ]
  },
  {
   "cell_type": "markdown",
   "metadata": {},
   "source": [
    "## Criando grafos"
   ]
  },
  {
   "cell_type": "code",
   "execution_count": 129,
   "metadata": {},
   "outputs": [
    {
     "name": "stdout",
     "output_type": "stream",
     "text": [
      "IGRAPH U--- 0 0 --\n"
     ]
    }
   ],
   "source": [
    "# Criando um grafo\n",
    "G = Graph()\n",
    "print(G)"
   ]
  },
  {
   "cell_type": "code",
   "execution_count": 130,
   "metadata": {},
   "outputs": [
    {
     "name": "stdout",
     "output_type": "stream",
     "text": [
      "IGRAPH U--- 5 0 --\n"
     ]
    }
   ],
   "source": [
    "# Adicionando vértices ao grafo\n",
    "G.add_vertices(5)\n",
    "print(G)"
   ]
  },
  {
   "cell_type": "code",
   "execution_count": 131,
   "metadata": {},
   "outputs": [
    {
     "name": "stdout",
     "output_type": "stream",
     "text": [
      "IGRAPH U--- 5 4 --\n",
      "+ edges:\n",
      "0--1 1--2 1--3 3--4\n"
     ]
    }
   ],
   "source": [
    "# Adicionando arestas ao grafo\n",
    "G.add_edges([(0,1), (1,2), (1,3), (3,4)])\n",
    "print(G)"
   ]
  },
  {
   "cell_type": "code",
   "execution_count": 132,
   "metadata": {},
   "outputs": [
    {
     "data": {
      "text/plain": [
       "0"
      ]
     },
     "execution_count": 132,
     "metadata": {},
     "output_type": "execute_result"
    }
   ],
   "source": [
    "# Obtendo ID de uma aresta\n",
    "G.get_eid(0,1)"
   ]
  },
  {
   "cell_type": "code",
   "execution_count": 133,
   "metadata": {},
   "outputs": [
    {
     "name": "stdout",
     "output_type": "stream",
     "text": [
      "IGRAPH U--- 5 3 --\n",
      "+ edges:\n",
      "1--2 1--3 3--4\n"
     ]
    }
   ],
   "source": [
    "# Deletando uma aresta\n",
    "G.delete_edges(0)\n",
    "print(G)"
   ]
  },
  {
   "cell_type": "code",
   "execution_count": 134,
   "metadata": {},
   "outputs": [
    {
     "name": "stdout",
     "output_type": "stream",
     "text": [
      "IGRAPH U--- 4 3 --\n",
      "+ edges:\n",
      "0--1 0--2 2--3\n"
     ]
    }
   ],
   "source": [
    "# Deletando um vértice\n",
    "G.delete_vertices(0)\n",
    "print(G)"
   ]
  },
  {
   "cell_type": "code",
   "execution_count": 135,
   "metadata": {},
   "outputs": [
    {
     "name": "stdout",
     "output_type": "stream",
     "text": [
      "IGRAPH U--- 4 3 -- \n"
     ]
    }
   ],
   "source": [
    "# Visualizando o grafo sem poluir a tela com as arestas\n",
    "summary(G)"
   ]
  },
  {
   "cell_type": "markdown",
   "metadata": {},
   "source": [
    "## Geradores de grafos\n",
    "\n",
    "Existem geradores determinísticos e estocásticos"
   ]
  },
  {
   "cell_type": "code",
   "execution_count": 136,
   "metadata": {},
   "outputs": [
    {
     "name": "stdout",
     "output_type": "stream",
     "text": [
      "IGRAPH U--- 8 7 --\n",
      "+ edges:\n",
      "0--1 0--2 1--3 1--4 2--5 2--6 3--7\n"
     ]
    }
   ],
   "source": [
    "# Gerando uma árvore com 8 vértices onde cada vértice possui 2 filhos a não ser as folhas\n",
    "G = ig.Graph.Tree(8,2)\n",
    "print(G)"
   ]
  },
  {
   "cell_type": "code",
   "execution_count": 137,
   "metadata": {},
   "outputs": [
    {
     "name": "stdout",
     "output_type": "stream",
     "text": [
      "[(0, 1), (0, 2), (1, 3), (1, 4), (2, 5), (2, 6), (3, 7)]\n"
     ]
    }
   ],
   "source": [
    "# Obtendo a lista de arestas do grafo\n",
    "arestas = G.get_edgelist()\n",
    "print(arestas)"
   ]
  },
  {
   "cell_type": "markdown",
   "metadata": {},
   "source": [
    "## Atributos para vértices e arestas"
   ]
  },
  {
   "cell_type": "code",
   "execution_count": 138,
   "metadata": {},
   "outputs": [],
   "source": [
    "# Todo grafo possui dois elementos especiais vs e es\n",
    "# es e vs são as sequencias de arestas e vértices respectivamente\n",
    "# ambos podem ser usados para atribuir características aos objetos do grafo\n",
    "# vamos criar um grafo que representa uma rede social\n",
    "G = Graph([(0,1),(1,2),(1,3),(3,4),(2,3),(2,4)])\n",
    "# Lembrando que tanto os vértices quanto as arestas possuem um id que caracteriza unicamente eles"
   ]
  },
  {
   "cell_type": "code",
   "execution_count": 139,
   "metadata": {},
   "outputs": [],
   "source": [
    "# Adicionando nomes, idades e se a relação é profissional\n",
    "G.vs[\"nome\"] = ['Wesley', 'Marcelo', 'Julia', 'Courtney', 'Claire']\n",
    "G.vs[\"idade\"] = [22,23,21,20,25]\n",
    "G.es[\"profissional\"] = [True, False, True, False, True, True]"
   ]
  },
  {
   "cell_type": "code",
   "execution_count": 140,
   "metadata": {},
   "outputs": [
    {
     "name": "stdout",
     "output_type": "stream",
     "text": [
      "{'nome': 'Wesley', 'idade': 22}\n",
      "{'profissional': True}\n"
     ]
    }
   ],
   "source": [
    "# Verificando atributos de vértices e arestas\n",
    "print(G.vs[0].attributes())\n",
    "print(G.es[0].attributes())"
   ]
  },
  {
   "cell_type": "code",
   "execution_count": 141,
   "metadata": {},
   "outputs": [
    {
     "data": {
      "text/plain": [
       "False"
      ]
     },
     "execution_count": 141,
     "metadata": {},
     "output_type": "execute_result"
    }
   ],
   "source": [
    "# Alterando uma característica\n",
    "G.es[0]['profissional'] = False\n",
    "G.es[0]['profissional']"
   ]
  },
  {
   "cell_type": "code",
   "execution_count": 142,
   "metadata": {},
   "outputs": [],
   "source": [
    "# Além dos vértices e arestas os próprios grafos podem ter um dicionário associado\n",
    "G[\"data\"] = \"2021-01-01\"\n",
    "G[\"ambiente\"] = \"Trabalho\""
   ]
  },
  {
   "cell_type": "code",
   "execution_count": 143,
   "metadata": {},
   "outputs": [
    {
     "name": "stdout",
     "output_type": "stream",
     "text": [
      "IGRAPH U--- 5 6 --\n",
      "+ attr: ambiente (g), data (g), idade (v), nome (v), profissional (e)\n",
      "+ edges:\n",
      "0 -- 1       1 -- 0 2 3   2 -- 1 3 4   3 -- 1 2 4   4 -- 2 3\n"
     ]
    }
   ],
   "source": [
    "print(G)"
   ]
  },
  {
   "cell_type": "code",
   "execution_count": 144,
   "metadata": {},
   "outputs": [
    {
     "name": "stdout",
     "output_type": "stream",
     "text": [
      "IGRAPH U--- 5 6 --\n",
      "+ attr: ambiente (g), idade (v), nome (v), profissional (e)\n",
      "+ edges:\n",
      "0 -- 1       1 -- 0 2 3   2 -- 1 3 4   3 -- 1 2 4   4 -- 2 3\n"
     ]
    }
   ],
   "source": [
    "# Podemos também deletar uma característica\n",
    "del G[\"data\"]\n",
    "print(G)"
   ]
  },
  {
   "cell_type": "markdown",
   "metadata": {},
   "source": [
    "## Características estruturais dos grafos"
   ]
  },
  {
   "cell_type": "code",
   "execution_count": 145,
   "metadata": {},
   "outputs": [
    {
     "name": "stdout",
     "output_type": "stream",
     "text": [
      "[1, 3, 3, 3, 2]\n",
      "IGRAPH U--- 5 6 --\n",
      "+ attr: ambiente (g), idade (v), nome (v), profissional (e)\n",
      "+ edges:\n",
      "0 -- 1       1 -- 0 2 3   2 -- 1 3 4   3 -- 1 2 4   4 -- 2 3\n"
     ]
    }
   ],
   "source": [
    "# Obtendo a lista de graus dos vértices\n",
    "graus = G.degree()\n",
    "print(graus)\n",
    "print(G)"
   ]
  },
  {
   "cell_type": "code",
   "execution_count": 146,
   "metadata": {},
   "outputs": [
    {
     "name": "stdout",
     "output_type": "stream",
     "text": [
      "3\n",
      "[1, 3]\n"
     ]
    }
   ],
   "source": [
    "# Obtendo os graus de apenas um subconjunto de vértices\n",
    "print(G.degree(1))\n",
    "print(G.degree([0,1]))"
   ]
  },
  {
   "cell_type": "code",
   "execution_count": 147,
   "metadata": {},
   "outputs": [
    {
     "name": "stdout",
     "output_type": "stream",
     "text": [
      "3\n"
     ]
    }
   ],
   "source": [
    "# Obtendo grau máximo\n",
    "print(G.maxdegree())"
   ]
  },
  {
   "cell_type": "markdown",
   "metadata": {},
   "source": [
    "## Realizando queries no nosso grafo"
   ]
  },
  {
   "cell_type": "code",
   "execution_count": 148,
   "metadata": {},
   "outputs": [
    {
     "data": {
      "text/plain": [
       "['Marcelo', 'Julia', 'Courtney']"
      ]
     },
     "execution_count": 148,
     "metadata": {},
     "output_type": "execute_result"
    }
   ],
   "source": [
    "# Pegando os nomes dos vértices que apresentam grau máximo\n",
    "G.vs.select(_degree = G.maxdegree())[\"nome\"]"
   ]
  },
  {
   "cell_type": "code",
   "execution_count": 149,
   "metadata": {},
   "outputs": [
    {
     "name": "stdout",
     "output_type": "stream",
     "text": [
      "['Marcelo', 'Julia', 'Claire']\n"
     ]
    }
   ],
   "source": [
    "# Pegando apenas vértices onde a idade é ímpar\n",
    "nomes = [elemento['nome'] for elemento in G.vs.select(lambda vertice: vertice[\"idade\"] % 2 == 1)]\n",
    "print(nomes)"
   ]
  },
  {
   "cell_type": "markdown",
   "metadata": {},
   "source": [
    "Comandos interessantes de serem usados com o select.\n",
    "\n",
    "![Comandos](1.JPG)\n",
    "\n",
    "**Obs.** É importante notar que não é permitido o uso de comparções diferentes de igualdade"
   ]
  },
  {
   "cell_type": "markdown",
   "metadata": {},
   "source": [
    "## Objetos vértice e aresta\n"
   ]
  },
  {
   "cell_type": "code",
   "execution_count": 150,
   "metadata": {},
   "outputs": [
    {
     "data": {
      "text/plain": [
       "igraph.Vertex"
      ]
     },
     "execution_count": 150,
     "metadata": {},
     "output_type": "execute_result"
    }
   ],
   "source": [
    "# Salvando um objeto vértice\n",
    "wesley = G.vs.find(nome=\"Wesley\")\n",
    "type(wesley)"
   ]
  },
  {
   "cell_type": "code",
   "execution_count": 151,
   "metadata": {},
   "outputs": [
    {
     "data": {
      "text/plain": [
       "22"
      ]
     },
     "execution_count": 151,
     "metadata": {},
     "output_type": "execute_result"
    }
   ],
   "source": [
    "# Verificando que o objeto vértice possui\n",
    "wesley[\"idade\"]"
   ]
  },
  {
   "cell_type": "markdown",
   "metadata": {},
   "source": [
    "## Procurando um vértice por nome"
   ]
  },
  {
   "cell_type": "code",
   "execution_count": 152,
   "metadata": {},
   "outputs": [],
   "source": [
    "# igraph trata de maneira especial um atributo chamado \"name\", esse podendo ser usado em buscas\n",
    "G.vs[\"name\"] = [\"Wesley\", \"Marcelo\", \"Julia\", \"Courtney\", \"Claire\"]"
   ]
  },
  {
   "cell_type": "code",
   "execution_count": 153,
   "metadata": {},
   "outputs": [
    {
     "data": {
      "text/plain": [
       "1"
      ]
     },
     "execution_count": 153,
     "metadata": {},
     "output_type": "execute_result"
    }
   ],
   "source": [
    "Wesley = G.degree(\"Wesley\")\n",
    "Wesley"
   ]
  },
  {
   "cell_type": "markdown",
   "metadata": {},
   "source": [
    "## Matriz de adjacência"
   ]
  },
  {
   "cell_type": "code",
   "execution_count": 154,
   "metadata": {},
   "outputs": [
    {
     "data": {
      "text/plain": [
       "Matrix([[0, 1, 0, 0, 0], [1, 0, 1, 1, 0], [0, 1, 0, 1, 1], [0, 1, 1, 0, 1], [0, 0, 1, 1, 0]])"
      ]
     },
     "execution_count": 154,
     "metadata": {},
     "output_type": "execute_result"
    }
   ],
   "source": [
    "# Obtendo a matriz de adjacência do nosso grafo\n",
    "G.get_adjacency()"
   ]
  },
  {
   "cell_type": "markdown",
   "metadata": {},
   "source": [
    "## Layout e plot de grafos"
   ]
  },
  {
   "cell_type": "code",
   "execution_count": 155,
   "metadata": {},
   "outputs": [
    {
     "name": "stdout",
     "output_type": "stream",
     "text": [
      "IGRAPH UN-- 5 6 --\n",
      "+ attr: ambiente (g), idade (v), name (v), nome (v), profissional (e)\n",
      "+ edges (vertex names):\n",
      "  Wesley -- Marcelo                     Courtney -- Marcelo, Julia, Claire\n",
      " Marcelo -- Wesley, Julia, Courtney       Claire -- Julia, Courtney\n",
      "   Julia -- Marcelo, Courtney, Claire\n"
     ]
    }
   ],
   "source": [
    "# Verificando o estado atual do grafo\n",
    "print(G)"
   ]
  },
  {
   "cell_type": "markdown",
   "metadata": {},
   "source": [
    "No igraph existem os layouts, esses são padrões de organização dos vértices na área de plotagem. Seguem um resumo de alguns tipos de layouts.\n",
    "\n",
    "![Comandos](2.JPG)"
   ]
  },
  {
   "cell_type": "code",
   "execution_count": 188,
   "metadata": {},
   "outputs": [
    {
     "data": {
      "image/png": "[encoded data removed]",
      "text/plain": [
       "<Figure size 432x288 with 1 Axes>"
      ]
     },
     "metadata": {
      "needs_background": "light"
     },
     "output_type": "display_data"
    }
   ],
   "source": [
    "# Plotando o grafo de maneira simples\n",
    "layout = G.layout(\"kk\")\n",
    "fig, ax = plt.subplots()\n",
    "igraph.plot(G,layout=layout, target=ax)"
   ]
  },
  {
   "cell_type": "code",
   "execution_count": 189,
   "metadata": {},
   "outputs": [
    {
     "data": {
      "image/png": "[encoded data removed]",
      "text/plain": [
       "<Figure size 432x288 with 1 Axes>"
      ]
     },
     "metadata": {
      "needs_background": "light"
     },
     "output_type": "display_data"
    }
   ],
   "source": [
    "# Dando uma incrementada no visual do grafo\n",
    "G.vs[\"label\"] = G.vs[\"name\"]\n",
    "color_dict = {'Wesley' : \"red\", 'Marcelo' : \"blue\", 'Julia' : \"yellow\", 'Courtney' : \"gray\", 'Claire' : 'purple'}\n",
    "G.vs[\"color\"] = [color_dict[nome] for nome in G.vs[\"nome\"]]\n",
    "fig, ax = plt.subplots()\n",
    "plt.axis('off')\n",
    "plot(G,layout=layout, bbox=(300, 300), target=ax, vertex_color = G.vs[\"color\"], vertex_label = G.vs[\"label\"])"
   ]
  },
  {
   "cell_type": "code",
   "execution_count": 207,
   "metadata": {},
   "outputs": [
    {
     "data": {
      "image/png": "[encoded data removed]",
      "text/plain": [
       "<Figure size 432x288 with 1 Axes>"
      ]
     },
     "metadata": {
      "needs_background": "light"
     },
     "output_type": "display_data"
    }
   ],
   "source": [
    "# Dando uma incrementada ainda maior no visual do grafo\n",
    "visual_style = {}\n",
    "visual_style[\"vertex_size\"] = 20\n",
    "visual_style[\"vertex_color\"] = G.vs[\"color\"]\n",
    "visual_style[\"vertex_label\"] = G.vs[\"label\"]\n",
    "visual_style[\"edge_width\"] = 2\n",
    "visual_style[\"layout\"] = layout\n",
    "visual_style[\"bbox\"] = (300, 300)\n",
    "visual_style[\"margin\"] = 20\n",
    "fig, ax = plt.subplots()\n",
    "plt.axis('off')\n",
    "plot(G, target=ax, **visual_style)"
   ]
  },
  {
   "cell_type": "markdown",
   "metadata": {},
   "source": [
    "Possíveis parâmetros a serem configurados quando queremos modificar configurações da visualização:\n",
    "\n",
    "![Comandos](3.JPG)\n",
    "\n",
    "![Comandos](4.JPG)"
   ]
  }
 ],
 "metadata": {
  "interpreter": {
   "hash": "916dbcbb3f70747c44a77c7bcd40155683ae19c65e1c03b4aa3499c5328201f1"
  },
  "kernelspec": {
   "display_name": "Python 3.8.10 64-bit",
   "language": "python",
   "name": "python3"
  },
  "language_info": {
   "codemirror_mode": {
    "name": "ipython",
    "version": 3
   },
   "file_extension": ".py",
   "mimetype": "text/x-python",
   "name": "python",
   "nbconvert_exporter": "python",
   "pygments_lexer": "ipython3",
   "version": "3.8.10"
  },
  "orig_nbformat": 4
 },
 "nbformat": 4,
 "nbformat_minor": 2
}
